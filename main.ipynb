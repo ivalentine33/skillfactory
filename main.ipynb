def a():
    i=0
    i=1
print(a())